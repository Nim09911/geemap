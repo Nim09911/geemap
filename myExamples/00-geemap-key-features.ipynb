{
 "cells": [
  {
   "cell_type": "code",
   "execution_count": 1,
   "id": "cba0e112",
   "metadata": {},
   "outputs": [],
   "source": [
    "import ee\n",
    "import geemap"
   ]
  },
  {
   "cell_type": "markdown",
   "id": "5f46200b",
   "metadata": {},
   "source": [
    "### Create Google Earth Engine Interactive Map"
   ]
  },
  {
   "cell_type": "code",
   "execution_count": 3,
   "id": "81159b7b",
   "metadata": {},
   "outputs": [
    {
     "data": {
      "application/vnd.jupyter.widget-view+json": {
       "model_id": "c1569c1c4ae24c819900aaf00fd3579e",
       "version_major": 2,
       "version_minor": 0
      },
      "text/plain": [
       "Map(center=[19.076, 72.8777], controls=(WidgetControl(options=['position', 'transparent_bg'], widget=HBox(chil…"
      ]
     },
     "metadata": {},
     "output_type": "display_data"
    }
   ],
   "source": [
    "# for longitude N is +ve, for latitude E is positive\n",
    "long = 19.0760\n",
    "lat = 72.8777\n",
    "\n",
    "# Map = geemap.Map(center=(longitude, latitude), zoom=integer)\n",
    "Map = geemap.Map(center=(long, lat), zoom=10)\n",
    "\n",
    "Map"
   ]
  },
  {
   "cell_type": "markdown",
   "id": "ea21603e",
   "metadata": {},
   "source": [
    "### Add Basemaps\n",
    "\n",
    "What are basemaps ? \\\n",
    "Basemaps for topography (OpenTopoMap), satelite view? (HYBRID)\\\n",
    "\\\n",
    "How are they different from layers ?\\\n",
    "Layers are added ontop of basemaps \\\n",
    "\\\n",
    "Default Basemaps is 'ROADMAP'"
   ]
  },
  {
   "cell_type": "code",
   "execution_count": 4,
   "id": "e301a185",
   "metadata": {},
   "outputs": [
    {
     "data": {
      "application/vnd.jupyter.widget-view+json": {
       "model_id": "0d124c1e9b234239bd52e9dc6e430983",
       "version_major": 2,
       "version_minor": 0
      },
      "text/plain": [
       "Map(center=[19.076, 72.8777], controls=(WidgetControl(options=['position', 'transparent_bg'], widget=HBox(chil…"
      ]
     },
     "metadata": {},
     "output_type": "display_data"
    }
   ],
   "source": [
    "# This is hybrid map - how is it different from satelite view?\n",
    "Map = geemap.Map(center=(19.0760, 72.8777), zoom=10)\n",
    "Map.add_basemap('HYBRID')\n",
    "Map"
   ]
  },
  {
   "cell_type": "code",
   "execution_count": 5,
   "id": "f33e3410",
   "metadata": {},
   "outputs": [
    {
     "data": {
      "application/vnd.jupyter.widget-view+json": {
       "model_id": "5e36545d12d14641b3d4281a039de187",
       "version_major": 2,
       "version_minor": 0
      },
      "text/plain": [
       "Map(center=[19.076, 72.8777], controls=(WidgetControl(options=['position', 'transparent_bg'], widget=HBox(chil…"
      ]
     },
     "metadata": {},
     "output_type": "display_data"
    }
   ],
   "source": [
    "# This map represents the topological map\n",
    "Map = geemap.Map(center=(19.0760, 72.8777), zoom=10)\n",
    "Map.add_basemap('OpenTopoMap')\n",
    "Map"
   ]
  },
  {
   "cell_type": "markdown",
   "id": "41ff770a",
   "metadata": {},
   "source": [
    "### WMS and XYZ tile Layers\n",
    "\n",
    "[See difference](https://gis.stackexchange.com/questions/326113/difference-between-wms-layers-and-xyz-tiles )"
   ]
  },
  {
   "cell_type": "code",
   "execution_count": 6,
   "id": "45dee5bf",
   "metadata": {
    "scrolled": true
   },
   "outputs": [
    {
     "data": {
      "application/vnd.jupyter.widget-view+json": {
       "model_id": "eb486c11c3154a15839c9f1cbc93d15e",
       "version_major": 2,
       "version_minor": 0
      },
      "text/plain": [
       "Map(center=[40, -100], controls=(WidgetControl(options=['position', 'transparent_bg'], widget=HBox(children=(T…"
      ]
     },
     "metadata": {},
     "output_type": "display_data"
    }
   ],
   "source": [
    "# XYZ Tile Layers\n",
    "\n",
    "Map = geemap.Map(center=[40, -100], zoom=2)\n",
    "\n",
    "# https://viewer.nationalmap.gov/services/\n",
    "url = 'https://mt1.google.com/vt/lyrs=y&x={x}&y={y}&z={z}'\n",
    "Map.add_tile_layer(url, name='Google Satellite', attribution='Google')\n",
    "Map"
   ]
  },
  {
   "cell_type": "code",
   "execution_count": 7,
   "id": "6a802ff5",
   "metadata": {
    "scrolled": true
   },
   "outputs": [
    {
     "data": {
      "application/vnd.jupyter.widget-view+json": {
       "model_id": "cb7247e3cd3649a2a337d1e2989c135c",
       "version_major": 2,
       "version_minor": 0
      },
      "text/plain": [
       "Map(center=[40, -100], controls=(WidgetControl(options=['position', 'transparent_bg'], widget=HBox(children=(T…"
      ]
     },
     "metadata": {},
     "output_type": "display_data"
    }
   ],
   "source": [
    "Map = geemap.Map(center=[40, -100], zoom=2)\n",
    "\n",
    "naip_url = 'https://services.nationalmap.gov/arcgis/services/USGSNAIPImagery/ImageServer/WMSServer?'\n",
    "Map.add_wms_layer(\n",
    "    url=naip_url, layers='0', name='NAIP Imagery', format='image/png', shown=True\n",
    ")\n",
    "\n",
    "Map"
   ]
  },
  {
   "cell_type": "markdown",
   "id": "49b0108a",
   "metadata": {},
   "source": [
    "### Adding Earth Engine Data Layers\n",
    "\n",
    "Various data layers to understand and study certain aspects \\\n",
    "Example Geophysical data, Physical Landscapes, Data Digital Elevation Models  \\\n",
    "[View Datasets here](https://developers.google.com/earth-engine/datasets#:~:text=Earth%20Engine%20includes%20a%20number,crop%20dominance%2C%20and%20watering%20sources.) \\\n",
    "[Earth Engine Docs](https://developers.google.com/earth-engine/guides)"
   ]
  },
  {
   "cell_type": "code",
   "execution_count": 8,
   "id": "413981b8",
   "metadata": {},
   "outputs": [],
   "source": [
    "Map = geemap.Map(center=[40, -100], zoom=4)"
   ]
  },
  {
   "cell_type": "markdown",
   "id": "aabc4935",
   "metadata": {},
   "source": [
    "##### ee.Image\n",
    "Image is the simple [raster](https://desktop.arcgis.com/en/arcmap/10.3/manage-data/raster-and-images/what-is-raster-data.htm#:~:text=In%20its%20simplest%20form%2C%20a,pictures%2C%20or%20even%20scanned%20maps.) data type \\\n",
    "They can be loaded by passing arth Engine Asset Id into the ee.Image constructor"
   ]
  },
  {
   "cell_type": "code",
   "execution_count": 9,
   "id": "a92c4162",
   "metadata": {},
   "outputs": [],
   "source": [
    "# Add Earth Engine dataset\n",
    "\n",
    "dem = ee.Image('USGS/SRTMGL1_003')\n",
    "landcover = ee.Image(\"ESA/GLOBCOVER_L4_200901_200912_V2_3\").select('landcover')\n",
    "landsat7 = ee.Image('LANDSAT/LE7_TOA_5YEAR/1999_2003')\n",
    "states = ee.FeatureCollection(\"TIGER/2018/States\")"
   ]
  },
  {
   "cell_type": "code",
   "execution_count": 10,
   "id": "74c5e8f8",
   "metadata": {},
   "outputs": [],
   "source": [
    "# Set visualization parameters.\n",
    "\n",
    "vis_params = {\n",
    "    'min': 0,\n",
    "    'max': 4000,\n",
    "    'palette': ['006633', 'E5FFCC', '662A00', 'D8D8D8', 'F5F5F5'],\n",
    "}"
   ]
  },
  {
   "cell_type": "code",
   "execution_count": 11,
   "id": "f034c35f",
   "metadata": {},
   "outputs": [],
   "source": [
    "# Add Earth Engine layers to Map\n",
    "\n",
    "Map.addLayer(dem, vis_params, 'SRTM DEM', True, 0.5)\n",
    "Map.addLayer(landcover, {}, 'Land cover')\n",
    "Map.addLayer(\n",
    "    landsat7, {'bands': ['B4', 'B3', 'B2'], 'min': 20, 'max': 200}, 'Landsat 7'\n",
    ")\n",
    "\n",
    "Map.addLayer(states, {}, \"US States\")"
   ]
  },
  {
   "cell_type": "code",
   "execution_count": 12,
   "id": "9a301c87",
   "metadata": {},
   "outputs": [
    {
     "data": {
      "application/vnd.jupyter.widget-view+json": {
       "model_id": "9aabfd75af824bcba1b831bb457d2989",
       "version_major": 2,
       "version_minor": 0
      },
      "text/plain": [
       "Map(center=[40, -100], controls=(WidgetControl(options=['position', 'transparent_bg'], widget=HBox(children=(T…"
      ]
     },
     "metadata": {},
     "output_type": "display_data"
    }
   ],
   "source": [
    "Map"
   ]
  },
  {
   "cell_type": "code",
   "execution_count": null,
   "id": "e8f21b01",
   "metadata": {},
   "outputs": [],
   "source": []
  }
 ],
 "metadata": {
  "kernelspec": {
   "display_name": "Python 3 (ipykernel)",
   "language": "python",
   "name": "python3"
  },
  "language_info": {
   "codemirror_mode": {
    "name": "ipython",
    "version": 3
   },
   "file_extension": ".py",
   "mimetype": "text/x-python",
   "name": "python",
   "nbconvert_exporter": "python",
   "pygments_lexer": "ipython3",
   "version": "3.9.13"
  }
 },
 "nbformat": 4,
 "nbformat_minor": 5
}
